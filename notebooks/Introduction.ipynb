{
 "metadata": {
  "name": "",
  "signature": "sha256:c12a310bc52437746a00528dae4c042e6997fc428613d0becd76ec547950fb52"
 },
 "nbformat": 3,
 "nbformat_minor": 0,
 "worksheets": [
  {
   "cells": [
    {
     "cell_type": "markdown",
     "metadata": {},
     "source": [
      "# Radiative transfer model of Titan in Near-IR\n",
      "- - - - - \n",
      "\n",
      "<mate@berkeley.edu>\n",
      "\n",
      "## Introduction\n",
      "\n",
      "This is a package for setting up the atmospheric structure of Titan and calculating near-infrared spectra. The atmospheric structure and properties of the aerosol scattering are determined using the measurements made in situ by instruments on the Huygens probe. The gas opacities are calculated from line lists in the HITRAN2012 database. Solutions to the radiative transfer can be performed with the twostream (fast) or discrete ordinates (less fast) methods. Examples of setting up the atmosphere and generating spectra are illustrated below. \n",
      "\n",
      "## Reference Data\n",
      "\n",
      "Due to the size of the reference data sets, they are not stored with the code repository and can be downloaded from a [public HTML directory](http://astro.berkeley.edu/~madamkov/refdata/). \n",
      "\n",
      "The method is included to setup the local directory structure and download the reference files specified at the top of the refdata module. Run the following after installation.\n",
      "\n",
      "    atmosphere.refdata.setup_directory()\n",
      "\n",
      "## Installation\n",
      "\n",
      "### 1. The `atmosphere` package can be installed using the standard source distribution installation \n",
      "\n",
      "    python setup.py install\n",
      "    \n",
      "After installation, which hopefully will compile [CDISORT](http://www.libradtran.org/bin/cdisort-2.1.3.tar.gz) (written by Tim Dowling, as part of [libradtran](http://www.libradtran.org/)), the path to where reference data files will go needs to be specified. \n",
      "\n",
      "### 2. __<span style=\"color:red\"> Set the environment variable RTDATAPATH </span>__.\n",
      "\n",
      "This can be done from the notebook using \n",
      "\n",
      "    import os\n",
      "    os.environ['RTDATAPATH'] = '/path/to/your/reference/data/'\n",
      "\n",
      "However, this environment variable will be cleaned up on exit from the interpreter, or notebook. It also won't be there when starting a new shell. It is best to edit your shell configuration file (e.g., `.bash_profile`) to include the following line:\n",
      "\n",
      "    export RTDATAPATH = '/path/to/your/reference/data/'\n",
      "    \n",
      "This will also be helpful when running calculations in parallel when new processes are started.\n",
      "\n",
      "### 3. Import the atmosphere module and get reference data, e.g., with the code below"
     ]
    },
    {
     "cell_type": "code",
     "collapsed": false,
     "input": [
      "import atmosphere as atm\n",
      "atm.refdata.setup_directory()"
     ],
     "language": "python",
     "metadata": {},
     "outputs": [
      {
       "output_type": "stream",
       "stream": "stdout",
       "text": [
        "Reference data exists: /Users/mate/g/rt/data/refdata/atmosphere_structure/titan/HASI_L4_ATMO_PROFILE_DESCEN.TAB\n",
        "Reference data exists: /Users/mate/g/rt/data/refdata/aerosol/titan/Tomasko2007_phase_0-80km.TAB\n",
        "Reference data exists: /Users/mate/g/rt/data/refdata/aerosol/titan/Tomasko2007_phase_80-200km.TAB\n",
        "Reference data exists: /Users/mate/g/rt/data/refdata/gas_opacity/CIA/N2_N2.fits\n",
        "Reference data exists: /Users/mate/g/rt/data/refdata/gas_opacity/CIA/H2_N2.fits\n",
        "Reference data exists: /Users/mate/g/rt/data/refdata/gas_opacity/kc_CH4.SINFONI.v08.dnu_3.0.fits\n"
       ]
      }
     ],
     "prompt_number": 1
    },
    {
     "cell_type": "markdown",
     "metadata": {},
     "source": [
      "## Example 1. Set up a model atmosphere structure"
     ]
    },
    {
     "cell_type": "code",
     "collapsed": false,
     "input": [
      "import os\n",
      "model = atm.structure.set_HASI_structure(nlev=11,  method='split_at_tropopause')\n",
      "\n",
      "atm.composition.set_abundances(model, trace_gas={'m_H2':0.001})\n",
      "\n",
      "atm.gas_opacity.set_methane(\n",
      "            model, kc_file=os.path.join(os.getenv('RTDATAPATH'),\n",
      "                                        'gas_opacity/kc_CH4.SINFONI.v08.dnu_3.0.fits'))\n",
      "atm.gas_opacity.set_cia(model)\n",
      "atm.aerosol.set_opacity(model)\n",
      "\n",
      "DISR = atm.aerosol.fit_DISR_phases()\n",
      "atm.aerosol.set_aerosol_phase_moments(model, DISR, nmom=24)\n",
      "\n",
      "view = {'umu0':0.90630776,\n",
      "        'phi0':200.,\n",
      "        'umue':0.96592581,\n",
      "        'phie':195,}\n",
      "\n",
      "model.update({'view':view})"
     ],
     "language": "python",
     "metadata": {},
     "outputs": [],
     "prompt_number": 13
    },
    {
     "cell_type": "markdown",
     "metadata": {},
     "source": [
      "### There are three ways to divide the atmosphere and set layer boundaries, illustrated below"
     ]
    },
    {
     "cell_type": "code",
     "collapsed": false,
     "input": [
      "atm.structure.show_atmosphere_structures(model)"
     ],
     "language": "python",
     "metadata": {},
     "outputs": []
    },
    {
     "cell_type": "markdown",
     "metadata": {},
     "source": [
      "### The vertical profile of methane is shown below\n",
      "\n",
      "Various methods for plotting quantities from the model or output tables in LaTeX format are included in the modules."
     ]
    },
    {
     "cell_type": "code",
     "collapsed": false,
     "input": [
      "atm.composition.show_methane_profile(model)"
     ],
     "language": "python",
     "metadata": {},
     "outputs": []
    },
    {
     "cell_type": "markdown",
     "metadata": {},
     "source": [
      "## Example 2: Parallel two-stream calculation using atmosphere model\n",
      "\n",
      "A two-stream solver (`twostream.py`) is included as a module for calculation of spectra, which is implemented using the parallel engines (or clusters). There is also an implementation of CDISORT (a.k.a., PyDISORT) which will require some cc compilation and linking. Documentation for the code is handled within the notebooks and doc strings.\n",
      "\n",
      "<span style=\"color:blue\"> Start engines under the IPython notebook clusters tab.  </span>\n",
      "\n",
      "Running a two-stream calucation without parallelization is built into the module:\n",
      "\n",
      "    from atmosphere.rt import twostream\n",
      "    twostream.calc_spectrum(model, hg=0.50, mu0=pseudo_pp(0.7, model, 2575.), rsurf=0.53)"
     ]
    },
    {
     "cell_type": "code",
     "collapsed": false,
     "input": [
      "from IPython import parallel\n",
      "engines = parallel.Client()\n",
      "dv = engines[:]\n",
      "dv.scatter('id', dv.targets, flatten=True)\n",
      "stride = len(dv)\n",
      "dv['stride'] = stride"
     ],
     "language": "python",
     "metadata": {},
     "outputs": [],
     "prompt_number": 4
    },
    {
     "cell_type": "code",
     "collapsed": false,
     "input": [
      "def twostream_parallel(model, hg, mu0, rsurf):\n",
      "    \"\"\"Run two-stream calculation in parallel for\n",
      "    atmosphere model and apend spectrum to data\n",
      "    structure. Assumes that multiple engines are\n",
      "    running in IPython notebook.\"\"\"\n",
      "\n",
      "    def calc_sub_spectrum(model, hg, mu0, rsurf):\n",
      "        \"\"\"Run two-stream calculation on a subset of the\n",
      "        total spectral bandpass.\"\"\"\n",
      "\n",
      "        from numpy import size, zeros, empty, sum\n",
      "        from atmosphere.rt import twostream    \n",
      "\n",
      "        tau, ssa = twostream.get_opacity_ssa(model, verbose=False)\n",
      "        intensities = zeros([model['nlam'], model['layers']['kc']['ng']])\n",
      "        g_weight = model['layers']['kc']['w']\n",
      "\n",
      "        chunk = model['nlam']/stride\n",
      "        imn = int(id*chunk)\n",
      "        imx = int((id+1)*chunk)\n",
      "        \n",
      "        if size(mu0) == 1:\n",
      "            MU0 = empty(model['nlay']) \n",
      "            MU0.fill(mu0)\n",
      "        else:\n",
      "            MU0 = mu0\n",
      "\n",
      "        for iwn in range(imn,imx):\n",
      "            for g in range(model['layers']['kc']['ng']):\n",
      "                tau_mono = tau[:,iwn,g]\n",
      "                ssa_mono = ssa[:,iwn,g]\n",
      "                g_Imu = twostream.mono(tau_mono, ssa_mono, hg, rsurf, MU0)\n",
      "                intensities[iwn,g] = g_Imu[0]\n",
      "\n",
      "        sub_spectrum = sum(intensities*g_weight, axis=1)  \n",
      "\n",
      "        return sub_spectrum\n",
      "\n",
      "    from numpy import zeros\n",
      "    \n",
      "    spectrum = zeros(model['nlam'])\n",
      "    spectra = dv.apply_async(calc_sub_spectrum, model, hg, mu0, rsurf)\n",
      "\n",
      "    for sub_spectrum in spectra.get():\n",
      "        spectrum += sub_spectrum\n",
      "\n",
      "    model.update({'spectrum':spectrum,\n",
      "                'calc':{'method':'twostream_parallel',\n",
      "                        'hg':hg,\n",
      "                        'mu0':mu0,\n",
      "                        'rsurf':rsurf,\n",
      "                        }\n",
      "                })\n",
      "    \n",
      "\n",
      "import time\n",
      "ts = time.time()\n",
      "\n",
      "from atmosphere.rt.twostream import pseudo_pp\n",
      "twostream_parallel(model, hg=0.50, mu0=pseudo_pp(0.7, model, 2575.),  rsurf=0.53)\n",
      "\n",
      "t_run = time.time() - ts\n",
      "print('Two-stream parallel ({:d} processes) for {:d} channels: {:6.1f} sec.'.format(len(dv), model['nlam'], t_run))"
     ],
     "language": "python",
     "metadata": {},
     "outputs": [
      {
       "output_type": "stream",
       "stream": "stdout",
       "text": [
        "Two-stream parallel (12 processes) for 1992 channels:    1.1 sec.\n"
       ]
      }
     ],
     "prompt_number": 14
    },
    {
     "cell_type": "code",
     "collapsed": false,
     "input": [
      "%matplotlib inline\n",
      "import matplotlib.pyplot as plt\n",
      "fig, ax = plt.subplots()\n",
      "ax.plot(model['wavelength'], model['spectrum'])\n",
      "ax.set_xlabel('wavelength (um)')\n",
      "ax.set_ylabel('albedo (I/F)') ;"
     ],
     "language": "python",
     "metadata": {},
     "outputs": [
      {
       "metadata": {},
       "output_type": "display_data",
       "png": "iVBORw0KGgoAAAANSUhEUgAAAYwAAAEPCAYAAABRHfM8AAAABHNCSVQICAgIfAhkiAAAAAlwSFlz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\nTQAsdbO9fwAAAABJRU5ErkJggg==\n",
       "text": [
        "<matplotlib.figure.Figure at 0x108182978>"
       ]
      }
     ],
     "prompt_number": 7
    },
    {
     "cell_type": "markdown",
     "metadata": {},
      "source": [
    "def pydisort_parallel(model):\n",
    "    \"\"\"Run CDISORT in parallel on notebook engines \n",
    "    using atm.rt.cdisort module.\"\"\"\n",
    "    \n",
    "    from numpy import zeros\n",
    "    \n",
    "    def pydisort_sub_spectrum(model) :\n",
    "        \"\"\"Compare FORTRAN and C DISORT Using input structure for Titan\n",
    "        that was generated by IDL code: /Users/mate/data/titan/DISORT_TEST\"\"\"\n",
    "\n",
    "        from numpy import zeros, sum\n",
    "        from atmosphere.rt import pydisort\n",
    "        \n",
    "        mono_input = {'nlyr':model['nlay'],\n",
    "                      'umu0':model['view']['umu0'],\n",
    "                      'phi0':model['view']['phi0'],\n",
    "                      'umue':model['view']['umue'],\n",
    "                      'phie':model['view']['phie'],\n",
    "                      }\n",
    "        ng = model['layers']['kc']['ng']\n",
    "        g_weight = model['layers']['kc']['w']\n",
    "        \n",
    "        fluxes, intensities = ( zeros([model['nlam'],ng]), \n",
    "                                zeros([model['nlam'],ng]))\n",
    "\n",
    "        chunk = model['nlam']/stride\n",
    "        imn = int(id*chunk)\n",
    "        imx = int((id+1)*chunk)\n",
    "\n",
    "        mono_input.update({'imn':imn,\n",
    "                           'imx':imx,})\n",
    "        \n",
    "        tau, ssa = pydisort.get_tau_ssa(model)\n",
    "        \n",
    "        for iwn in range(imn,imx):\n",
    "            order = model['haze']['pmom']['lo'].shape[1]-1\n",
    "            mono_input.update({'nstr':order,\n",
    "                               'nmom':order,\n",
    "                               'albedo':0.4,\n",
    "                               }\n",
    "                              )\n",
    "\n",
    "            for g in range(ng) :# loop over g-ordinates\n",
    "                mono_input.update({'pmom':model['haze']['pmom']['lo'][iwn,:],\n",
    "                                   'dtau':tau[:,iwn,g],\n",
    "                                   'ssalb':ssa[:,iwn,g],\n",
    "                                   }\n",
    "                                  )\n",
    "\n",
    "                g_flup, g_uu = pydisort.mono(mono_input)\n",
    "                fluxes[iwn,g] = g_flup\n",
    "\n",
    "        sub_spectrum = sum(fluxes*g_weight, axis=1)  \n",
    "        return sub_spectrum\n",
    "    \n",
    "    spectrum = zeros(model['nlam'])\n",
    "    spectra = dv.apply_async(pydisort_sub_spectrum, model)\n",
    "\n",
    "    for sub_spectrum in spectra.get():\n",
    "        spectrum += sub_spectrum\n",
    "\n",
    "    model.update({'spectrum':spectrum,\n",
    "                'calc':{'method':'pydisort_parallel',\n",
    "                        }\n",
    "                })"
   ]
  },
     "language": "python",
     "metadata": {},
     "outputs": [],
     "prompt_number": 8
    },
    {
     "cell_type": "code",
     "collapsed": false,
     "input": [
      "import time\n",
      "ts = time.time()\n",
      "\n",
      "pydisort_parallel(model)\n",
      "\n",
      "t_run = time.time() - ts\n",
      "print('PyDISORT parallel ({:d} processes) for {:d} channels: {:6.1f} sec.'.format(len(dv), model['nlam'], t_run))"
     ],
     "language": "python",
     "metadata": {},
     "outputs": [
      {
       "output_type": "stream",
       "stream": "stdout",
       "text": [
        "PyDISORT (parallel) for 1992 channels:   46.0 (sec)\n"
       ]
      }
     ],
     "prompt_number": 9
    },
    {
     "cell_type": "code",
     "collapsed": false,
     "input": [
      "%matplotlib inline\n",
      "import matplotlib.pyplot as plt\n",
      "fig, ax = plt.subplots()\n",
      "ax.plot(model['wavelength'], model['spectrum'])\n",
      "ax.set_xlabel('wavelength (um)')\n",
      "ax.set_ylabel('albedo (I/F)') ;"
     ],
     "language": "python",
     "metadata": {},
     "outputs": [
      {
       "metadata": {},
       "output_type": "display_data",
       "png": "iVBORw0KGgoAAAANSUhEUgAAAYwAAAEPCAYAAABRHfM8AAAABHNCSVQICAgIfAhkiAAAAAlwSFlz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\nKNSsGloAAAAASUVORK5CYII=\n",
       "text": [
        "<matplotlib.figure.Figure at 0x113ab35c0>"
       ]
      }
     ],
     "prompt_number": 15
    }
   ],
   "metadata": {}
  }
 ]
}
