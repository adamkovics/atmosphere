{
 "cells": [
  {
   "cell_type": "markdown",
   "metadata": {},
   "source": [
    "# PyDISORT: Example calculation of VIMS spectrum\n",
    " - - - - - \n",
    "\n",
    "<mate@berkeley.edu>\n",
    "\n",
    "The following notebook gives an example of how to setup the atmospheric \n",
    "structure dictionary and use it to calculate a spectrum at the VIMS \n",
    "dispersion (wavelength) scale. The `pydisort` module has been updated to include\n",
    "a parallel (multiprocessing) implementation of the call to the monochromatic CDISORT\n",
    "code. The requires `ipyparallel`. \n",
    "The notebook below demonstrates how to change a few of the default parameters,\n",
    "run the radiative transfer calculation in either single process or multiprocessing\n",
    "mode and then illustrates the comparison of the model to some VIMS observations.\n",
    "\n",
    "\n",
    "### Specify data directory and download/confirm reference data"
   ]
  },
  {
   "cell_type": "code",
   "execution_count": 5,
   "metadata": {
    "collapsed": false
   },
   "outputs": [],
   "source": [
    "import numpy as np\n",
    "import os\n",
    "from time import time\n",
    "from ipyparallel import Client\n",
    "\n",
    "os.environ['RTDATAPATH'] = '/Users/mate/g/rt/data/refdata/'\n",
    "import atmosphere as atm\n",
    "from atmosphere.rt import pydisort\n",
    "atm.refdata.setup_directory()"
   ]
  },
  {
   "cell_type": "markdown",
   "metadata": {},
   "source": [
    "## Define methods for generating an atmospheric model of Titan and performing RT calculation\n",
    "\n",
    "Note the parameters that are specified in the methods below. For example, the k-coefficients file,\n",
    "the gas compositions, and the surface reflectivity."
   ]
  },
  {
   "cell_type": "code",
   "execution_count": 6,
   "metadata": {
    "collapsed": false
   },
   "outputs": [],
   "source": [
    "def create_atmosphere_model(**kw):\n",
    "    \"\"\"\n",
    "    Setup layered atmospheric model using a default physical/thermal structure\n",
    "    determined by HASI, and composition from the GCMS, with aerosol \n",
    "    scattering propertier from DISR.\n",
    "    \n",
    "    The titan dictionary contains the values used to determine the opacity\n",
    "    and scattering albedo of each atmospheric layer as a function of\n",
    "    wavelength. The dispersion axis is constrained by the k-coefficients that\n",
    "    are used, as specified by the methane kc_file.\n",
    "    \"\"\"\n",
    "    \n",
    "    ts = time()\n",
    "    titan = atm.structure.set_HASI_structure(nlev=21,method='split_at_tropopause')\n",
    "    atm.composition.set_abundances(titan, trace_gas={'m_H2':0.001})\n",
    "    atm.gas_opacity.set_methane(titan, \n",
    "        kc_file='/Users/mate/g/rt/data/refdata/gas_opacity/kc_CH4.VIMS.v08.fits',\n",
    "        )\n",
    "    atm.gas_opacity.set_cia(titan)\n",
    "    atm.aerosol.set_opacity(titan)\n",
    "    DISR = atm.aerosol.fit_DISR_phases()\n",
    "    atm.aerosol.set_aerosol_phase_moments(titan, DISR, nmom=32)   \n",
    "    t_setup = time()-ts\n",
    "    \n",
    "    titan['haze'].update({'ssalb':0.96})\n",
    "    titan.update({'radius':2575.,\n",
    "                  'rsurf':0.10,\n",
    "                  't_setup':t_setup,\n",
    "                 })\n",
    "    if 'rsurf' in kw: titan.update({'rsurf':kw['rsurf']})\n",
    "    if 'verbose' in kw and kw['verbose']:\n",
    "        pstr = 'PyDISORT Titan atmosphere structure and opacity setup: {:6.1f} sec'\n",
    "        print(pstr.format(titan['t_setup']))    \n",
    "    \n",
    "    return titan\n",
    "\n",
    "def setup_VIMS_calc(**kw):\n",
    "    \"\"\"Specify the viewing geometry and wavelegth range for the\n",
    "    radiative transfer calculation.\"\"\"\n",
    "\n",
    "    titan = create_atmosphere_model(**kw)\n",
    "    titan.update({'rt':{'spher':False,\n",
    "                        'wav_range':(2.0,2.40),\n",
    "                        'view':{'umu0':0.99,'umue': 0.90,'phi0': 10.0,'phie': 11.0},\n",
    "                       }})\n",
    "    for k in ['view','wav_range']: \n",
    "        if k in kw: titan['rt'].update({k:kw[k]})\n",
    "            \n",
    "    fi = lambda array, v: abs(array-v).argmin()\n",
    "    wav_indices = lambda array, wavs: tuple([fi(array, mu) for mu in wavs])\n",
    "    wav_mn, wav_mx = wav_indices(titan['wavelength'], titan['rt']['wav_range'])\n",
    "    titan['rt'].update({'wav_mn':wav_mn,\n",
    "                        'wav_mx':wav_mx,\n",
    "                        'nlam':wav_mx-wav_mn+1,\n",
    "                        })          \n",
    "    return titan"
   ]
  },
  {
   "cell_type": "code",
   "execution_count": 7,
   "metadata": {
    "collapsed": false
   },
   "outputs": [
    {
     "name": "stdout",
     "output_type": "stream",
     "text": [
      "PyDISORT Titan atmosphere structure and opacity setup:    1.2 sec\n"
     ]
    },
    {
     "data": {
      "text/plain": [
       "{'info': 'PyDISORT radiative transfer for 7 channels: 8.0 sec',\n",
       " 'method': 'PyDISORT single process',\n",
       " 'nlam': 7,\n",
       " 'parallel': 'NOT implemented',\n",
       " 'spher': False,\n",
       " 't_calc': 7.991042852401733,\n",
       " 'view': {'phi0': 10.0, 'phie': 11.0, 'umu0': 0.99, 'umue': 0.9},\n",
       " 'wav_mn': 31,\n",
       " 'wav_mx': 37,\n",
       " 'wav_range': (2.0, 2.1)}"
      ]
     },
     "execution_count": 7,
     "metadata": {},
     "output_type": "execute_result"
    }
   ],
   "source": [
    "titan = setup_VIMS_calc(wav_range=(2.0,2.10), verbose=True ) \n",
    "pydisort.calculate_spectrum(titan)\n",
    "titan['rt']"
   ]
  },
  {
   "cell_type": "code",
   "execution_count": 8,
   "metadata": {
    "collapsed": false
   },
   "outputs": [
    {
     "name": "stdout",
     "output_type": "stream",
     "text": [
      "31 2.00167 0.0903420410802\n",
      "32 2.01781 0.108331700274\n",
      "33 2.03424 0.112038196407\n",
      "34 2.05091 0.10372204058\n",
      "35 2.06757 0.0948675734415\n",
      "36 2.084 0.0796971995697\n"
     ]
    }
   ],
   "source": [
    "def spectest(model):\n",
    "    for i in range(model['rt']['wav_mn'],model['rt']['wav_mx']):\n",
    "        print(i, model['wavelength'][i], model['spectrum'][i])\n",
    "        \n",
    "spectest(titan)"
   ]
  },
  {
   "cell_type": "markdown",
   "metadata": {},
   "source": [
    "## Parallel (multi-core) execution \n",
    "Requires `ipyparallel` and starting clusters in IPython Clusters tab of notebook to make use of multilpe cores."
   ]
  },
  {
   "cell_type": "code",
   "execution_count": 5,
   "metadata": {
    "collapsed": false
   },
   "outputs": [
    {
     "data": {
      "text/plain": [
       "{'info': 'PyDISORT parallel RT (12 processes) for 46 channels: 6.2 sec',\n",
       " 'method': 'PyDISORT parallel',\n",
       " 'nlam': 46,\n",
       " 'parallel': 'implemented',\n",
       " 'spher': False,\n",
       " 't_calc': 6.181897878646851,\n",
       " 'view': {'phi0': 10.0, 'phie': 11.0, 'umu0': 0.99, 'umue': 0.9},\n",
       " 'wav_mn': 1,\n",
       " 'wav_mx': 46,\n",
       " 'wav_range': (1.5, 2.25)}"
      ]
     },
     "execution_count": 5,
     "metadata": {},
     "output_type": "execute_result"
    }
   ],
   "source": [
    "titan = setup_VIMS_calc(wav_range=(1.5,2.25))\n",
    "pydisort.cluster_spectrum_calculation(titan)\n",
    "titan['rt']"
   ]
  },
  {
   "cell_type": "markdown",
   "metadata": {},
   "source": [
    "# Compare calculations with observed VIMS spectrum "
   ]
  },
  {
   "cell_type": "code",
   "execution_count": 6,
   "metadata": {
    "collapsed": false
   },
   "outputs": [
    {
     "name": "stdout",
     "output_type": "stream",
     "text": [
      "PyDISORT Titan atmosphere structure and opacity setup:    2.2 sec\n"
     ]
    },
    {
     "data": {
      "text/plain": [
       "{'info': 'PyDISORT parallel RT (12 processes) for 121 channels: 15.2 sec',\n",
       " 'method': 'PyDISORT parallel',\n",
       " 'nlam': 121,\n",
       " 'parallel': 'implemented',\n",
       " 'spher': False,\n",
       " 't_calc': 15.221455812454224,\n",
       " 'view': {'phi0': 272.4,\n",
       "  'phie': 248.6,\n",
       "  'umu0': 0.29020116735122808,\n",
       "  'umue': 0.61662375236365907},\n",
       " 'wav_mn': 1,\n",
       " 'wav_mx': 121,\n",
       " 'wav_range': (1.5, 3.5)}"
      ]
     },
     "execution_count": 6,
     "metadata": {},
     "output_type": "execute_result"
    }
   ],
   "source": [
    "VIMS_test = setup_VIMS_calc(\n",
    "                rsurf=0.25,\n",
    "                wav_range=(1.5,3.5),\n",
    "                view={'umu0':np.cos(73.13*(np.pi/180)),\n",
    "                      'umue':np.cos(51.93*(np.pi/180)),\n",
    "                      'phi0': 272.4,\n",
    "                      'phie': 360-111.4},\n",
    "                verbose=True,\n",
    "                ) \n",
    "pydisort.cluster_spectrum_calculation(VIMS_test)\n",
    "VIMS_test['rt']"
   ]
  },
  {
   "cell_type": "code",
   "execution_count": null,
   "metadata": {
    "collapsed": true
   },
   "outputs": [],
   "source": []
  },
  {
   "cell_type": "code",
   "execution_count": null,
   "metadata": {
    "collapsed": true
   },
   "outputs": [],
   "source": []
  },
  {
   "cell_type": "code",
   "execution_count": null,
   "metadata": {
    "collapsed": true
   },
   "outputs": [],
   "source": []
  },
  {
   "cell_type": "code",
   "execution_count": 7,
   "metadata": {
    "collapsed": false
   },
   "outputs": [
    {
     "data": {
      "image/png": "[encoded data removed]",
      "text/plain": [
       "<matplotlib.figure.Figure at 0x10d02bc18>"
      ]
     },
     "metadata": {},
     "output_type": "display_data"
    }
   ],
   "source": [
    "%matplotlib inline\n",
    "import matplotlib.pyplot as plt\n",
    "\n",
    "url = 'http://w.astro.berkeley.edu/~madamkov/refdata/test/VIMS.dat'\n",
    "obs = np.genfromtxt(url,names=['wav','ref','cloud'])\n",
    "\n",
    "fig, ax = plt.subplots()\n",
    "ax.plot(obs['wav'], obs['cloud'], 'b-', drawstyle='steps-mid', label='cloud')\n",
    "ax.plot(obs['wav'], obs['ref'], 'g-', drawstyle='steps-mid', label='reference')\n",
    "ax.plot(VIMS_test['wavelength'], VIMS_test['spectrum'], 'r-', drawstyle='steps-mid', label='PyDISORT') \n",
    "\n",
    "ax.set_xlim(1.2,3.5) ;\n",
    "ax.legend(loc='best')\n",
    "ax.set_xlabel('wavelength (um)') ; ax.set_ylabel('I/F') ;"
   ]
  }
 ],
 "metadata": {
  "kernelspec": {
   "display_name": "Python 3",
   "language": "python",
   "name": "python3"
  },
  "language_info": {
   "codemirror_mode": {
    "name": "ipython",
    "version": 3
   },
   "file_extension": ".py",
   "mimetype": "text/x-python",
   "name": "python",
   "nbconvert_exporter": "python",
   "pygments_lexer": "ipython3",
   "version": "3.5.2"
  }
 },
 "nbformat": 4,
 "nbformat_minor": 0
}
